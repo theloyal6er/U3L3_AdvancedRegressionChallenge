{
 "cells": [
  {
   "cell_type": "code",
   "execution_count": 1,
   "metadata": {},
   "outputs": [],
   "source": [
    "import pandas as pd\n",
    "from matplotlib import pyplot as plt\n",
    "import numpy as np\n",
    "import math\n",
    "import seaborn as sns\n",
    "import sklearn\n",
    "from sklearn import linear_model\n",
    "from sklearn import preprocessing\n",
    "%matplotlib inline\n",
    "sns.set_style('white')"
   ]
  },
  {
   "cell_type": "code",
   "execution_count": 2,
   "metadata": {},
   "outputs": [],
   "source": [
    "datapath = ('https://raw.githubusercontent.com/theloyal6er/U3L2_HeartDiseaseRandomForest/master/HeartDisease.csv')"
   ]
  },
  {
   "cell_type": "code",
   "execution_count": 4,
   "metadata": {},
   "outputs": [],
   "source": [
    "dataraw = pd.read_csv(datapath)"
   ]
  },
  {
   "cell_type": "code",
   "execution_count": 52,
   "metadata": {},
   "outputs": [
    {
     "data": {
      "text/html": [
       "<div>\n",
       "<style scoped>\n",
       "    .dataframe tbody tr th:only-of-type {\n",
       "        vertical-align: middle;\n",
       "    }\n",
       "\n",
       "    .dataframe tbody tr th {\n",
       "        vertical-align: top;\n",
       "    }\n",
       "\n",
       "    .dataframe thead th {\n",
       "        text-align: right;\n",
       "    }\n",
       "</style>\n",
       "<table border=\"1\" class=\"dataframe\">\n",
       "  <thead>\n",
       "    <tr style=\"text-align: right;\">\n",
       "      <th></th>\n",
       "      <th>Age</th>\n",
       "      <th>Sex</th>\n",
       "      <th>ChestPain</th>\n",
       "      <th>RestingBP</th>\n",
       "      <th>Cholestoral</th>\n",
       "      <th>BloodSugar</th>\n",
       "      <th>ECGResults</th>\n",
       "      <th>MaxHeartRate</th>\n",
       "      <th>ExerciseInducedAngina</th>\n",
       "      <th>OldPeak</th>\n",
       "      <th>SlopePeak</th>\n",
       "      <th>MajorVessels</th>\n",
       "      <th>Thalassemia</th>\n",
       "      <th>Target</th>\n",
       "    </tr>\n",
       "  </thead>\n",
       "  <tbody>\n",
       "    <tr>\n",
       "      <th>0</th>\n",
       "      <td>63</td>\n",
       "      <td>1</td>\n",
       "      <td>3</td>\n",
       "      <td>145</td>\n",
       "      <td>233</td>\n",
       "      <td>1</td>\n",
       "      <td>0</td>\n",
       "      <td>150</td>\n",
       "      <td>0</td>\n",
       "      <td>2.3</td>\n",
       "      <td>0</td>\n",
       "      <td>0</td>\n",
       "      <td>1</td>\n",
       "      <td>1</td>\n",
       "    </tr>\n",
       "    <tr>\n",
       "      <th>1</th>\n",
       "      <td>37</td>\n",
       "      <td>1</td>\n",
       "      <td>2</td>\n",
       "      <td>130</td>\n",
       "      <td>250</td>\n",
       "      <td>0</td>\n",
       "      <td>1</td>\n",
       "      <td>187</td>\n",
       "      <td>0</td>\n",
       "      <td>3.5</td>\n",
       "      <td>0</td>\n",
       "      <td>0</td>\n",
       "      <td>2</td>\n",
       "      <td>1</td>\n",
       "    </tr>\n",
       "    <tr>\n",
       "      <th>2</th>\n",
       "      <td>41</td>\n",
       "      <td>0</td>\n",
       "      <td>1</td>\n",
       "      <td>130</td>\n",
       "      <td>204</td>\n",
       "      <td>0</td>\n",
       "      <td>0</td>\n",
       "      <td>172</td>\n",
       "      <td>0</td>\n",
       "      <td>1.4</td>\n",
       "      <td>2</td>\n",
       "      <td>0</td>\n",
       "      <td>2</td>\n",
       "      <td>1</td>\n",
       "    </tr>\n",
       "    <tr>\n",
       "      <th>3</th>\n",
       "      <td>56</td>\n",
       "      <td>1</td>\n",
       "      <td>1</td>\n",
       "      <td>120</td>\n",
       "      <td>236</td>\n",
       "      <td>0</td>\n",
       "      <td>1</td>\n",
       "      <td>178</td>\n",
       "      <td>0</td>\n",
       "      <td>0.8</td>\n",
       "      <td>2</td>\n",
       "      <td>0</td>\n",
       "      <td>2</td>\n",
       "      <td>1</td>\n",
       "    </tr>\n",
       "    <tr>\n",
       "      <th>4</th>\n",
       "      <td>57</td>\n",
       "      <td>0</td>\n",
       "      <td>0</td>\n",
       "      <td>120</td>\n",
       "      <td>354</td>\n",
       "      <td>0</td>\n",
       "      <td>1</td>\n",
       "      <td>163</td>\n",
       "      <td>1</td>\n",
       "      <td>0.6</td>\n",
       "      <td>2</td>\n",
       "      <td>0</td>\n",
       "      <td>2</td>\n",
       "      <td>1</td>\n",
       "    </tr>\n",
       "  </tbody>\n",
       "</table>\n",
       "</div>"
      ],
      "text/plain": [
       "   Age  Sex  ChestPain  RestingBP  Cholestoral  BloodSugar  ECGResults  \\\n",
       "0   63    1          3        145          233           1           0   \n",
       "1   37    1          2        130          250           0           1   \n",
       "2   41    0          1        130          204           0           0   \n",
       "3   56    1          1        120          236           0           1   \n",
       "4   57    0          0        120          354           0           1   \n",
       "\n",
       "   MaxHeartRate  ExerciseInducedAngina  OldPeak  SlopePeak  MajorVessels  \\\n",
       "0           150                      0      2.3          0             0   \n",
       "1           187                      0      3.5          0             0   \n",
       "2           172                      0      1.4          2             0   \n",
       "3           178                      0      0.8          2             0   \n",
       "4           163                      1      0.6          2             0   \n",
       "\n",
       "   Thalassemia  Target  \n",
       "0            1       1  \n",
       "1            2       1  \n",
       "2            2       1  \n",
       "3            2       1  \n",
       "4            2       1  "
      ]
     },
     "execution_count": 52,
     "metadata": {},
     "output_type": "execute_result"
    }
   ],
   "source": [
    "dataraw.head()"
   ]
  },
  {
   "cell_type": "code",
   "execution_count": 6,
   "metadata": {},
   "outputs": [],
   "source": [
    "dataraw.columns = ['Age','Sex','ChestPain','RestingBP','Cholestoral','BloodSugar','ECGResults','MaxHeartRate',\n",
    "                      'ExerciseInducedAngina','OldPeak','SlopePeak','MajorVessels','Thalassemia','Target']"
   ]
  },
  {
   "cell_type": "code",
   "execution_count": 7,
   "metadata": {},
   "outputs": [
    {
     "data": {
      "text/plain": [
       "<matplotlib.axes._subplots.AxesSubplot at 0x10efad2b0>"
      ]
     },
     "execution_count": 7,
     "metadata": {},
     "output_type": "execute_result"
    },
    {
     "data": {
      "image/png": "[encoded data removed]",
      "text/plain": [
       "<Figure size 720x720 with 2 Axes>"
      ]
     },
     "metadata": {
      "needs_background": "light"
     },
     "output_type": "display_data"
    }
   ],
   "source": [
    "import seaborn as sns\n",
    "fig, ax = plt.subplots(figsize=(10,10))\n",
    "sns.heatmap(dataraw.corr(),cmap=\"YlGnBu\")"
   ]
  },
  {
   "cell_type": "code",
   "execution_count": 9,
   "metadata": {},
   "outputs": [
    {
     "name": "stdout",
     "output_type": "stream",
     "text": [
      "Coefficients\n",
      "[[0.85312807 0.50261369 0.02903947 0.8780064 ]]\n",
      "[-6.43315398]\n",
      "\n",
      " Accuracy by Target\n",
      "Target   0    1\n",
      "row_0          \n",
      "0       96   35\n",
      "1       42  130\n",
      "\n",
      " Percentage accuracy\n",
      "0.7458745874587459\n"
     ]
    },
    {
     "name": "stderr",
     "output_type": "stream",
     "text": [
      "/usr/local/lib/python3.7/site-packages/sklearn/linear_model/logistic.py:433: FutureWarning: Default solver will be changed to 'lbfgs' in 0.22. Specify a solver to silence this warning.\n",
      "  FutureWarning)\n"
     ]
    }
   ],
   "source": [
    "from sklearn.linear_model import LogisticRegression\n",
    "# Declare a logistic regression classifier.\n",
    "# Parameter regularization coefficient C described above.\n",
    "logreg = LogisticRegression(C=1e9)\n",
    "Y1 = dataraw['Target']\n",
    "X1 = dataraw[['ChestPain', 'ECGResults','MaxHeartRate','SlopePeak']]\n",
    "\n",
    "# Fit the model.\n",
    "fitlog = logreg.fit(X1, Y1)\n",
    "\n",
    "# Display.\n",
    "print('Coefficients')\n",
    "print(fitlog.coef_)\n",
    "print(fitlog.intercept_)\n",
    "pred_y_sklearn = logreg.predict(X1)\n",
    "\n",
    "print('\\n Accuracy by Target')\n",
    "print(pd.crosstab(pred_y_sklearn, Y1))\n",
    "\n",
    "print('\\n Percentage accuracy')\n",
    "print(logreg.score(X1, Y1))"
   ]
  },
  {
   "cell_type": "code",
   "execution_count": 64,
   "metadata": {},
   "outputs": [
    {
     "name": "stdout",
     "output_type": "stream",
     "text": [
      "Ridge Regression Score\n",
      "0.5034168650357417\n",
      "\n",
      " Ridge Coefficients\n",
      "[ 3.04110973e-03 -1.50526200e-01  1.10474365e-01 -8.05739185e-04\n",
      " -1.32788290e-04  2.92082596e-04  6.48104946e-02  5.13910434e-03\n",
      " -1.06969290e-01 -5.81073998e-02  7.87413122e-02 -1.02229049e-01\n",
      " -1.00866666e-01]\n"
     ]
    }
   ],
   "source": [
    "from sklearn.linear_model import Ridge\n",
    "Y2 = dataraw['Target'].values.reshape(-1, 1)\n",
    "X2 = dataraw.loc[:, ~(dataraw.columns).isin(['Target'])]\n",
    "ridgeregr = linear_model.Ridge(alpha=10, fit_intercept=False) \n",
    "ridgefit = ridgeregr.fit(X2, Y2)\n",
    "origparams = ridgeregr.coef_[0]\n",
    "\n",
    "print('Ridge Regression Score')\n",
    "print(ridgeregr.score(X2, Y2))\n",
    "print('\\n Ridge Coefficients')\n",
    "print(origparams)"
   ]
  },
  {
   "cell_type": "code",
   "execution_count": 58,
   "metadata": {},
   "outputs": [
    {
     "name": "stdout",
     "output_type": "stream",
     "text": [
      "Lasso Regression Score\n",
      "0.5027107444333914\n",
      "\n",
      " Lasso Coefficients\n",
      "[ 2.92557821e-03 -1.53916605e-01  1.10587945e-01 -8.33024874e-04\n",
      " -1.52998470e-04 -0.00000000e+00  5.46988184e-02  5.25841357e-03\n",
      " -1.01311958e-01 -5.78866083e-02  7.31022708e-02 -1.00818450e-01\n",
      " -9.68358877e-02  0.00000000e+00]\n"
     ]
    }
   ],
   "source": [
    "from sklearn.linear_model import Lasso\n",
    "#Y2 = dataraw['Target'].values.reshape(-1, 1)\n",
    "#X2 = dataraw.loc[:, ~(dataraw.columns).isin(['Target'])]\n",
    "lassoregr = linear_model.Lasso(alpha=.005, fit_intercept=False) \n",
    "lassofit = lassoregr.fit(X2, Y2)\n",
    "orig2params = np.append(lassofit.coef_, lassofit.intercept_)\n",
    "\n",
    "print('Lasso Regression Score')\n",
    "print(lassoregr.score(X2, Y2))\n",
    "print('\\n Lasso Coefficients')\n",
    "print(orig2params)"
   ]
  },
  {
   "cell_type": "code",
   "execution_count": 65,
   "metadata": {},
   "outputs": [
    {
     "data": {
      "text/html": [
       "<div>\n",
       "<style scoped>\n",
       "    .dataframe tbody tr th:only-of-type {\n",
       "        vertical-align: middle;\n",
       "    }\n",
       "\n",
       "    .dataframe tbody tr th {\n",
       "        vertical-align: top;\n",
       "    }\n",
       "\n",
       "    .dataframe thead th {\n",
       "        text-align: right;\n",
       "    }\n",
       "</style>\n",
       "<table border=\"1\" class=\"dataframe\">\n",
       "  <thead>\n",
       "    <tr style=\"text-align: right;\">\n",
       "      <th></th>\n",
       "      <th>Age</th>\n",
       "      <th>Sex</th>\n",
       "      <th>ChestPain</th>\n",
       "      <th>RestingBP</th>\n",
       "      <th>Cholestoral</th>\n",
       "      <th>BloodSugar</th>\n",
       "      <th>ECGResults</th>\n",
       "      <th>MaxHeartRate</th>\n",
       "      <th>ExerciseInducedAngina</th>\n",
       "      <th>OldPeak</th>\n",
       "      <th>SlopePeak</th>\n",
       "      <th>MajorVessels</th>\n",
       "      <th>Thalassemia</th>\n",
       "      <th>Target</th>\n",
       "    </tr>\n",
       "  </thead>\n",
       "  <tbody>\n",
       "    <tr>\n",
       "      <th>0</th>\n",
       "      <td>63</td>\n",
       "      <td>1</td>\n",
       "      <td>3</td>\n",
       "      <td>145</td>\n",
       "      <td>233</td>\n",
       "      <td>1</td>\n",
       "      <td>0</td>\n",
       "      <td>150</td>\n",
       "      <td>0</td>\n",
       "      <td>2.3</td>\n",
       "      <td>0</td>\n",
       "      <td>0</td>\n",
       "      <td>1</td>\n",
       "      <td>1</td>\n",
       "    </tr>\n",
       "    <tr>\n",
       "      <th>1</th>\n",
       "      <td>37</td>\n",
       "      <td>1</td>\n",
       "      <td>2</td>\n",
       "      <td>130</td>\n",
       "      <td>250</td>\n",
       "      <td>0</td>\n",
       "      <td>1</td>\n",
       "      <td>187</td>\n",
       "      <td>0</td>\n",
       "      <td>3.5</td>\n",
       "      <td>0</td>\n",
       "      <td>0</td>\n",
       "      <td>2</td>\n",
       "      <td>1</td>\n",
       "    </tr>\n",
       "    <tr>\n",
       "      <th>2</th>\n",
       "      <td>41</td>\n",
       "      <td>0</td>\n",
       "      <td>1</td>\n",
       "      <td>130</td>\n",
       "      <td>204</td>\n",
       "      <td>0</td>\n",
       "      <td>0</td>\n",
       "      <td>172</td>\n",
       "      <td>0</td>\n",
       "      <td>1.4</td>\n",
       "      <td>2</td>\n",
       "      <td>0</td>\n",
       "      <td>2</td>\n",
       "      <td>1</td>\n",
       "    </tr>\n",
       "    <tr>\n",
       "      <th>3</th>\n",
       "      <td>56</td>\n",
       "      <td>1</td>\n",
       "      <td>1</td>\n",
       "      <td>120</td>\n",
       "      <td>236</td>\n",
       "      <td>0</td>\n",
       "      <td>1</td>\n",
       "      <td>178</td>\n",
       "      <td>0</td>\n",
       "      <td>0.8</td>\n",
       "      <td>2</td>\n",
       "      <td>0</td>\n",
       "      <td>2</td>\n",
       "      <td>1</td>\n",
       "    </tr>\n",
       "    <tr>\n",
       "      <th>4</th>\n",
       "      <td>57</td>\n",
       "      <td>0</td>\n",
       "      <td>0</td>\n",
       "      <td>120</td>\n",
       "      <td>354</td>\n",
       "      <td>0</td>\n",
       "      <td>1</td>\n",
       "      <td>163</td>\n",
       "      <td>1</td>\n",
       "      <td>0.6</td>\n",
       "      <td>2</td>\n",
       "      <td>0</td>\n",
       "      <td>2</td>\n",
       "      <td>1</td>\n",
       "    </tr>\n",
       "  </tbody>\n",
       "</table>\n",
       "</div>"
      ],
      "text/plain": [
       "   Age  Sex  ChestPain  RestingBP  Cholestoral  BloodSugar  ECGResults  \\\n",
       "0   63    1          3        145          233           1           0   \n",
       "1   37    1          2        130          250           0           1   \n",
       "2   41    0          1        130          204           0           0   \n",
       "3   56    1          1        120          236           0           1   \n",
       "4   57    0          0        120          354           0           1   \n",
       "\n",
       "   MaxHeartRate  ExerciseInducedAngina  OldPeak  SlopePeak  MajorVessels  \\\n",
       "0           150                      0      2.3          0             0   \n",
       "1           187                      0      3.5          0             0   \n",
       "2           172                      0      1.4          2             0   \n",
       "3           178                      0      0.8          2             0   \n",
       "4           163                      1      0.6          2             0   \n",
       "\n",
       "   Thalassemia  Target  \n",
       "0            1       1  \n",
       "1            2       1  \n",
       "2            2       1  \n",
       "3            2       1  \n",
       "4            2       1  "
      ]
     },
     "execution_count": 65,
     "metadata": {},
     "output_type": "execute_result"
    }
   ],
   "source": [
    "dataraw.head()"
   ]
  },
  {
   "cell_type": "code",
   "execution_count": 69,
   "metadata": {
    "scrolled": true
   },
   "outputs": [],
   "source": [
    "X3 = dataraw[['Age','ChestPain','BloodSugar','ECGResults','MaxHeartRate','SlopePeak']]"
   ]
  },
  {
   "cell_type": "code",
   "execution_count": 76,
   "metadata": {},
   "outputs": [
    {
     "name": "stdout",
     "output_type": "stream",
     "text": [
      "Ridge Regression Score\n",
      "0.3309093709878188\n",
      "\n",
      " Ridge Coefficients\n",
      "[-0.00696456  0.16369717 -0.03177795  0.064292    0.00352859  0.15022524]\n"
     ]
    }
   ],
   "source": [
    "from sklearn.linear_model import Ridge\n",
    "Y2 = dataraw['Target'].values.reshape(-1, 1)\n",
    "#X2 = dataraw.loc[:, ~(dataraw.columns).isin(['Target'])]\n",
    "ridgeregr = linear_model.Ridge(alpha=10, fit_intercept=False) \n",
    "ridgefit = ridgeregr.fit(X3, Y2)\n",
    "origparams = ridgeregr.coef_[0]\n",
    "\n",
    "print('Ridge Regression Score')\n",
    "print(ridgeregr.score(X3, Y2))\n",
    "print('\\n Ridge Coefficients')\n",
    "print(origparams)"
   ]
  },
  {
   "cell_type": "code",
   "execution_count": 77,
   "metadata": {},
   "outputs": [
    {
     "name": "stdout",
     "output_type": "stream",
     "text": [
      "Lasso Regression Score\n",
      "0.32995678690162533\n",
      "\n",
      " Lasso Coefficients\n",
      "[-0.00702571  0.16313192 -0.00097894  0.0554946   0.00353723  0.1520534\n",
      "  0.        ]\n"
     ]
    }
   ],
   "source": [
    "from sklearn.linear_model import Lasso\n",
    "#Y2 = dataraw['Target'].values.reshape(-1, 1)\n",
    "#X2 = dataraw.loc[:, ~(dataraw.columns).isin(['Target'])]\n",
    "lassoregr = linear_model.Lasso(alpha=.005, fit_intercept=False) \n",
    "lassofit = lassoregr.fit(X3, Y2)\n",
    "orig2params = np.append(lassofit.coef_, lassofit.intercept_)\n",
    "\n",
    "print('Lasso Regression Score')\n",
    "print(lassoregr.score(X3, Y2))\n",
    "print('\\n Lasso Coefficients')\n",
    "print(orig2params)"
   ]
  },
  {
   "cell_type": "markdown",
   "metadata": {},
   "source": [
    "### Advanced Regression Challenge\n",
    "\n",
    "I found a dataset on Kaggle that had different variables that contributed towards a \"Target\" which was a binary outcome column that explained whether a patient had Heart Disease or not. I used a correlation heat map to get a general sense of how the variables positively/negatively correlated to the Target variable. \n",
    "\n",
    "For the logistic regression, I honed in on the correlation between the top four most positively correlated variables to match against my Y-target variable. For the Ridge and Lasso regressions, I ran the model with all the variables against my Y-target variable to determine the respective regression scores. Logistic Regression scores ended up with the highest accuracy with nearly 74.5% versus ~50%. I decided also to remove all the negatively correlated variables and re-run the models itself but the accuracy went down more - this showed that the model depended on even the negatively correlated variables to improve the overall accuracy.\n",
    "\n",
    "The Ridge and Lasso regressions can often take away what the model can hone in as \"useless\" variables but if the overall strength of the variables are weak to begin with, the engrained PCA rules the regression math does can often take away from the overall accuracy of the models. The logistic regression worked the best of its logarithmic fingerprint in the model to better fit the data's nature. The data must not have been as strong to properly fit a Ridge or Lasso regression and in turn the logistic regression gave a better and more holistic understanding of the model itself."
   ]
  },
  {
   "cell_type": "code",
   "execution_count": null,
   "metadata": {},
   "outputs": [],
   "source": []
  }
 ],
 "metadata": {
  "kernelspec": {
   "display_name": "Python 3",
   "language": "python",
   "name": "python3"
  },
  "language_info": {
   "codemirror_mode": {
    "name": "ipython",
    "version": 3
   },
   "file_extension": ".py",
   "mimetype": "text/x-python",
   "name": "python",
   "nbconvert_exporter": "python",
   "pygments_lexer": "ipython3",
   "version": "3.7.0"
  }
 },
 "nbformat": 4,
 "nbformat_minor": 2
}
